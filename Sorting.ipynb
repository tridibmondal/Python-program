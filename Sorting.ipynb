{
 "cells": [
  {
   "cell_type": "code",
   "execution_count": 5,
   "metadata": {},
   "outputs": [
    {
     "name": "stdout",
     "output_type": "stream",
     "text": [
      "The sorted list are [1, 2, 3, 5, 6, 8, 9]\n"
     ]
    }
   ],
   "source": [
    "ls=[1,5,6,9,2,3,8]\n",
    "ls.sort()\n",
    "print(\"The sorted list are\",ls)"
   ]
  },
  {
   "cell_type": "code",
   "execution_count": null,
   "metadata": {},
   "outputs": [],
   "source": [
    "ls=[]\n",
    "a=int(input(\"enter the number you want to sort\"))\n",
    "for i in range(a):\n",
    "    num=int(input(\"enter the number\"))\n",
    "    ls.append(num)\n",
    "for i in range(ls.__len__()-1):\n",
    "    if(ls[i]>ls[i+1]):\n",
    "        temp=ls[i]\n",
    "        ls[i]=ls[i+1]\n",
    "        ls[i+1]=temp\n",
    "#print(i)\n",
    "print(ls)\n",
    "    \n",
    "    \n"
   ]
  },
  {
   "cell_type": "code",
   "execution_count": 4,
   "metadata": {},
   "outputs": [
    {
     "name": "stdout",
     "output_type": "stream",
     "text": [
      "<class 'list'>\n"
     ]
    }
   ],
   "source": [
    "ls=[]\n",
    "print(type(ls))"
   ]
  },
  {
   "cell_type": "code",
   "execution_count": null,
   "metadata": {},
   "outputs": [],
   "source": [
    "ls=[]\n",
    "for i in range(a):\n",
    "    num=int(input(\"enter the number\"))"
   ]
  }
 ],
 "metadata": {
  "kernelspec": {
   "display_name": "Python 3",
   "language": "python",
   "name": "python3"
  },
  "language_info": {
   "codemirror_mode": {
    "name": "ipython",
    "version": 3
   },
   "file_extension": ".py",
   "mimetype": "text/x-python",
   "name": "python",
   "nbconvert_exporter": "python",
   "pygments_lexer": "ipython3",
   "version": "3.7.3"
  }
 },
 "nbformat": 4,
 "nbformat_minor": 2
}
