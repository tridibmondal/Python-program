{
 "cells": [
  {
   "cell_type": "code",
   "execution_count": 1,
   "metadata": {},
   "outputs": [],
   "source": [
    "import tkinter as tk\n",
    "import sqlite3\n",
    "mydb=sqlite3.connect('sample.db')\n",
    "c=mydb.cursor()"
   ]
  },
  {
   "cell_type": "code",
   "execution_count": 2,
   "metadata": {},
   "outputs": [
    {
     "ename": "OperationalError",
     "evalue": "table bank1 already exists",
     "output_type": "error",
     "traceback": [
      "\u001b[1;31m---------------------------------------------------------------------------\u001b[0m",
      "\u001b[1;31mOperationalError\u001b[0m                          Traceback (most recent call last)",
      "\u001b[1;32m<ipython-input-2-94ec97a03531>\u001b[0m in \u001b[0;36m<module>\u001b[1;34m\u001b[0m\n\u001b[0;32m      5\u001b[0m \u001b[0mmydb\u001b[0m\u001b[1;33m=\u001b[0m\u001b[0msqlite3\u001b[0m\u001b[1;33m.\u001b[0m\u001b[0mconnect\u001b[0m\u001b[1;33m(\u001b[0m\u001b[1;34m'sample.db'\u001b[0m\u001b[1;33m)\u001b[0m\u001b[1;33m\u001b[0m\u001b[1;33m\u001b[0m\u001b[0m\n\u001b[0;32m      6\u001b[0m \u001b[0mc\u001b[0m\u001b[1;33m=\u001b[0m\u001b[0mmydb\u001b[0m\u001b[1;33m.\u001b[0m\u001b[0mcursor\u001b[0m\u001b[1;33m(\u001b[0m\u001b[1;33m)\u001b[0m\u001b[1;33m\u001b[0m\u001b[1;33m\u001b[0m\u001b[0m\n\u001b[1;32m----> 7\u001b[1;33m \u001b[0mc\u001b[0m\u001b[1;33m.\u001b[0m\u001b[0mexecute\u001b[0m\u001b[1;33m(\u001b[0m\u001b[1;34m'create table bank1(id integer, name text , balance integer)'\u001b[0m\u001b[1;33m)\u001b[0m\u001b[1;33m\u001b[0m\u001b[1;33m\u001b[0m\u001b[0m\n\u001b[0m\u001b[0;32m      8\u001b[0m \u001b[0mmydb\u001b[0m\u001b[1;33m.\u001b[0m\u001b[0mcommit\u001b[0m\u001b[1;33m(\u001b[0m\u001b[1;33m)\u001b[0m\u001b[1;33m\u001b[0m\u001b[1;33m\u001b[0m\u001b[0m\n\u001b[0;32m      9\u001b[0m \u001b[0mprint\u001b[0m\u001b[1;33m(\u001b[0m\u001b[1;34m\"bank1 created\"\u001b[0m\u001b[1;33m)\u001b[0m\u001b[1;33m\u001b[0m\u001b[1;33m\u001b[0m\u001b[0m\n",
      "\u001b[1;31mOperationalError\u001b[0m: table bank1 already exists"
     ]
    }
   ],
   "source": [
    "import tkinter as tk\n",
    "import sqlite3\n",
    "mydb=sqlite3.connect('sample.db')\n",
    "c=mydb.cursor()\n",
    "mydb=sqlite3.connect('sample.db')\n",
    "c=mydb.cursor()\n",
    "c.execute('create table bank1(id integer, name text , balance integer)')\n",
    "mydb.commit()\n",
    "print(\"bank1 created\")\n"
   ]
  },
  {
   "cell_type": "code",
   "execution_count": 3,
   "metadata": {},
   "outputs": [],
   "source": [
    "c.execute('insert into bank1 values(?,?,?)',(1,'Oli Das',3000))\n",
    "mydb.commit()"
   ]
  },
  {
   "cell_type": "code",
   "execution_count": 4,
   "metadata": {},
   "outputs": [],
   "source": [
    "c.execute('insert into bank1 values(?,?,?)',(2,'Shruti Das Mahapatra',10000))\n",
    "c.execute('insert into bank1 values(?,?,?)',(3,'Moumita Samanta',5000))\n",
    "c.execute('insert into bank1 values(?,?,?)',(4,'Tridib Mondal',3000))\n",
    "c.execute('insert into bank1 values(?,?,?)',(5,'Soham Chatterjee',4000))\n",
    "mydb.commit()"
   ]
  },
  {
   "cell_type": "code",
   "execution_count": 5,
   "metadata": {},
   "outputs": [
    {
     "name": "stdout",
     "output_type": "stream",
     "text": [
      "(1, 'Oli Das', 3000)\n",
      "(2, 'Shruti Das Mahapatra', 10000)\n",
      "(3, 'Moumita Samanta', 5000)\n",
      "(4, 'Tridib Mondal', 3000)\n",
      "(5, 'Soham Chatterjee', 4000)\n",
      "(2, 'Shruti Das Mahapatra', 10000)\n",
      "(3, 'Moumita Samanta', 5000)\n",
      "(4, 'Tridib Mondal', 3000)\n",
      "(5, 'Soham Chatterjee', 4000)\n",
      "(1, 'Oli Das', 3000)\n",
      "(2, 'Shruti Das Mahapatra', 10000)\n",
      "(3, 'Moumita Samanta', 5000)\n",
      "(4, 'Tridib Mondal', 3000)\n",
      "(5, 'Soham Chatterjee', 4000)\n"
     ]
    }
   ],
   "source": [
    "c.execute('select * from bank1')\n",
    "res=c.fetchall()\n",
    "for i in res:\n",
    "    print(i)"
   ]
  },
  {
   "cell_type": "code",
   "execution_count": null,
   "metadata": {},
   "outputs": [],
   "source": [
    "import tkinter as tk\n",
    "\n",
    "mydb=sqlite3.connect('sample.db')\n",
    "c=mydb.cursor()\n",
    "\n",
    "def add(event):\n",
    "    amount=(depo.get())\n",
    "    print(depo,amount)\n",
    "\n",
    "def deposit():\n",
    "    dp=tk.Tk()\n",
    "    tk.Label(dp,text=\"Enter amount to be deposited : \").grid(row=2,column=0)\n",
    "    depo=tk.Entry(dp)\n",
    "    depo.grid(row=2,column=2)\n",
    "    depo.bind('<Return>',add)\n",
    "    bid.delete(0,tk.END)\n",
    "    print(\"amount deposited\")\n",
    "    dp.mainloop()\n",
    "    \n",
    "def sub(event):\n",
    "    amount=int(wdraw.get())\n",
    "    print(amount,wdraw)\n",
    "    \n",
    "def withdraw():\n",
    "    wd=tk.Tk()\n",
    "    tk.Label(wd,text=\"Enter amount to be withdrawn : \").grid(row=2,column=0)\n",
    "    wdraw=tk.Entry(wd)\n",
    "    wdraw.grid(row=2,column=2)\n",
    "    wdraw.bind('<Return>',sub)\n",
    "    bid.delete(0,tk.END)\n",
    "    print(\"amount withdrawn\")    \n",
    "    \n",
    "def show(bid):\n",
    "    master=tk.Tk()\n",
    "    welcome=tk.Label(master)\n",
    "    welcome.grid(row=2,column=0)\n",
    "    welcome.configure(text=\"WELCOME TO YOUR ACCOUNT \")\n",
    "    #print(welcome message) \n",
    "    choice=tk.Label(master)\n",
    "    choice.grid(row=3,column=0)\n",
    "    choice.configure(text=\"Please enter your choice ... \")\n",
    "    tk.Button(master,text=\"Deposit\",command=deposit).grid(row=4,column=0)\n",
    "    tk.Button(master,text=\"Withdraw\",command=withdraw).grid(row=4,column=3)\n",
    "    tk.Button(master,text=\"Exit\",command=master.destroy).grid(row=6,column=1)\n",
    "    master.mainloop()\n",
    "    \n",
    "def check(event):\n",
    "    eid=(bid.get())\n",
    "    c.execute('select * from bank1 where id=?',(eid,))\n",
    "    abc=c.fetchall()\n",
    "    if(abc):  \n",
    "        show(bid) \n",
    "    else:\n",
    "        notfound.configure(text=\"Sorry... Id not found \")\n",
    "        bid.delete(0,tk.END)\n",
    "\n",
    "rw=tk.Tk()\n",
    "rw.title(\"Bank\")        \n",
    "tk.Label(rw,text=\"Enter your id : \").grid(row=0,column=0)\n",
    "bid=tk.Entry(rw)\n",
    "bid.grid(row=0,column=2)\n",
    "bid.bind('<Return>',check)\n",
    "notfound=tk.Label()\n",
    "notfound.grid(row=4,column=0)\n",
    "tk.Button(rw,text=\"Exit\",command=rw.destroy).grid(row=6,column=0)\n",
    " \n",
    "rw.mainloop()"
   ]
  },
  {
   "cell_type": "code",
   "execution_count": null,
   "metadata": {},
   "outputs": [],
   "source": [
    "#tathagata2009@gmail.com"
   ]
  }
 ],
 "metadata": {
  "kernelspec": {
   "display_name": "Python 3",
   "language": "python",
   "name": "python3"
  },
  "language_info": {
   "codemirror_mode": {
    "name": "ipython",
    "version": 3
   },
   "file_extension": ".py",
   "mimetype": "text/x-python",
   "name": "python",
   "nbconvert_exporter": "python",
   "pygments_lexer": "ipython3",
   "version": "3.7.3"
  }
 },
 "nbformat": 4,
 "nbformat_minor": 2
}
