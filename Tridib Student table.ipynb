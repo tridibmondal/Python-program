{
 "cells": [
  {
   "cell_type": "code",
   "execution_count": 1,
   "metadata": {},
   "outputs": [
    {
     "ename": "OperationalError",
     "evalue": "table Student already exists",
     "output_type": "error",
     "traceback": [
      "\u001b[1;31m---------------------------------------------------------------------------\u001b[0m",
      "\u001b[1;31mOperationalError\u001b[0m                          Traceback (most recent call last)",
      "\u001b[1;32m<ipython-input-1-ea5911e4af6f>\u001b[0m in \u001b[0;36m<module>\u001b[1;34m\u001b[0m\n\u001b[0;32m      2\u001b[0m \u001b[0mmydb\u001b[0m\u001b[1;33m=\u001b[0m\u001b[0msqlite3\u001b[0m\u001b[1;33m.\u001b[0m\u001b[0mconnect\u001b[0m\u001b[1;33m(\u001b[0m\u001b[1;34m\"Sample2.db\"\u001b[0m\u001b[1;33m)\u001b[0m\u001b[1;33m\u001b[0m\u001b[1;33m\u001b[0m\u001b[0m\n\u001b[0;32m      3\u001b[0m \u001b[0mc\u001b[0m\u001b[1;33m=\u001b[0m\u001b[0mmydb\u001b[0m\u001b[1;33m.\u001b[0m\u001b[0mcursor\u001b[0m\u001b[1;33m(\u001b[0m\u001b[1;33m)\u001b[0m\u001b[1;33m\u001b[0m\u001b[1;33m\u001b[0m\u001b[0m\n\u001b[1;32m----> 4\u001b[1;33m \u001b[0mc\u001b[0m\u001b[1;33m.\u001b[0m\u001b[0mexecute\u001b[0m\u001b[1;33m(\u001b[0m\u001b[1;34m\"create table Student(id text,phy text,chem text,maths text,avg text,grade text)\"\u001b[0m\u001b[1;33m)\u001b[0m\u001b[1;33m\u001b[0m\u001b[1;33m\u001b[0m\u001b[0m\n\u001b[0m\u001b[0;32m      5\u001b[0m \u001b[0mmydb\u001b[0m\u001b[1;33m.\u001b[0m\u001b[0mcommit\u001b[0m\u001b[1;33m(\u001b[0m\u001b[1;33m)\u001b[0m\u001b[1;33m\u001b[0m\u001b[1;33m\u001b[0m\u001b[0m\n\u001b[0;32m      6\u001b[0m \u001b[0mprint\u001b[0m\u001b[1;33m(\u001b[0m\u001b[1;34m\"Student table is created......\"\u001b[0m\u001b[1;33m)\u001b[0m\u001b[1;33m\u001b[0m\u001b[1;33m\u001b[0m\u001b[0m\n",
      "\u001b[1;31mOperationalError\u001b[0m: table Student already exists"
     ]
    }
   ],
   "source": [
    "import sqlite3\n",
    "mydb=sqlite3.connect(\"Sample2.db\")\n",
    "c=mydb.cursor()\n",
    "c.execute(\"create table Student(id text,phy text,chem text,maths text,avg text,grade text)\")\n",
    "mydb.commit()\n",
    "print(\"Student table is created......\")\n"
   ]
  },
  {
   "cell_type": "code",
   "execution_count": 2,
   "metadata": {},
   "outputs": [
    {
     "name": "stdout",
     "output_type": "stream",
     "text": [
      "Physics:50\n",
      "Chemistry50\n",
      "Maths :50\n",
      "ID :101\n",
      "Record inserted.....\n"
     ]
    }
   ],
   "source": [
    "phy=input(\"Physics:\")\n",
    "chem=input(\"Chemistry\")\n",
    "math=input(\"Maths :\")\n",
    "id=input(\"ID :\")\n",
    "list1=[\n",
    "    (id,phy,chem,math,0,'na'),\n",
    "]\n",
    "c.executemany(\"insert into Student values(?,?,?,?,?,?)\",list1)\n",
    "mydb.commit()\n",
    "print(\"Record inserted.....\")\n"
   ]
  },
  {
   "cell_type": "code",
   "execution_count": 3,
   "metadata": {},
   "outputs": [
    {
     "name": "stdout",
     "output_type": "stream",
     "text": [
      "Enter ID :101\n",
      "150\n",
      "50\n",
      "Updated\n"
     ]
    }
   ],
   "source": [
    "import sqlite3\n",
    "mydb=sqlite3.connect(\"Sample2.db\")\n",
    "c=mydb.cursor()\n",
    "id=input(\"Enter ID :\")\n",
    "c.execute('select * from student where id=?',(id,))\n",
    "res=c.fetchall()\n",
    "for i in res:\n",
    "    id=res[0][0]\n",
    "    total=int(res[0][1])+int(res[0][2])+int(res[0][3])\n",
    "    print(total)\n",
    "    avg=total//3\n",
    "    print(avg)\n",
    "    if(avg<30):\n",
    "        grd='F'\n",
    "    elif(avg>=30 and avg<=40):\n",
    "        grd='D'\n",
    "    elif(avg>40 and avg<50):\n",
    "        grd='C'\n",
    "    elif(avg>=50 and avg<60):\n",
    "        grd='B'\n",
    "    elif(avg>=60 and avg<=70):\n",
    "        grd='A'\n",
    "    else:\n",
    "        grd='star'\n",
    "    c.execute('update student set avg=?,grade=? where id=?',(avg,grd,id,))\n",
    "    mydb.commit()\n",
    "print(\"Updated\")"
   ]
  },
  {
   "cell_type": "code",
   "execution_count": 4,
   "metadata": {},
   "outputs": [
    {
     "name": "stdout",
     "output_type": "stream",
     "text": [
      "('1', '50', '60', '70', '60', 'A')\n",
      "('2', '70', '80', '90', '80', 'star')\n",
      "('101', '50', '50', '50', '50', 'B')\n"
     ]
    }
   ],
   "source": [
    "import sqlite3\n",
    "mydb=sqlite3.connect(\"Sample2.db\")\n",
    "c=mydb.cursor()\n",
    "c.execute('select * from student')\n",
    "res=c.fetchall()\n",
    "for i in res:\n",
    "    print(i)"
   ]
  },
  {
   "cell_type": "code",
   "execution_count": null,
   "metadata": {},
   "outputs": [],
   "source": []
  },
  {
   "cell_type": "code",
   "execution_count": null,
   "metadata": {},
   "outputs": [],
   "source": []
  }
 ],
 "metadata": {
  "kernelspec": {
   "display_name": "Python 3",
   "language": "python",
   "name": "python3"
  },
  "language_info": {
   "codemirror_mode": {
    "name": "ipython",
    "version": 3
   },
   "file_extension": ".py",
   "mimetype": "text/x-python",
   "name": "python",
   "nbconvert_exporter": "python",
   "pygments_lexer": "ipython3",
   "version": "3.7.3"
  }
 },
 "nbformat": 4,
 "nbformat_minor": 2
}
