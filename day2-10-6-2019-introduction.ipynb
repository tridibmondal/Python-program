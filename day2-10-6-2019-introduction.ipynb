{
 "cells": [
  {
   "cell_type": "code",
   "execution_count": 5,
   "metadata": {},
   "outputs": [
    {
     "name": "stdout",
     "output_type": "stream",
     "text": [
      "10\n",
      "20\n"
     ]
    }
   ],
   "source": [
    "x,y,z=10,20,30\n",
    "print(x)\n",
    "print(y)"
   ]
  },
  {
   "cell_type": "code",
   "execution_count": 6,
   "metadata": {},
   "outputs": [
    {
     "name": "stdout",
     "output_type": "stream",
     "text": [
      "10\n"
     ]
    }
   ],
   "source": [
    "x=y=z=10\n",
    "print(z)"
   ]
  },
  {
   "cell_type": "code",
   "execution_count": 14,
   "metadata": {},
   "outputs": [
    {
     "data": {
      "text/plain": [
       "1000"
      ]
     },
     "execution_count": 14,
     "metadata": {},
     "output_type": "execute_result"
    }
   ],
   "source": [
    "10**3"
   ]
  },
  {
   "cell_type": "code",
   "execution_count": 15,
   "metadata": {},
   "outputs": [
    {
     "data": {
      "text/plain": [
       "False"
      ]
     },
     "execution_count": 15,
     "metadata": {},
     "output_type": "execute_result"
    }
   ],
   "source": [
    "a=10\n",
    "b=20\n",
    "c=10\n",
    "a==b and b==c"
   ]
  },
  {
   "cell_type": "code",
   "execution_count": 16,
   "metadata": {},
   "outputs": [
    {
     "data": {
      "text/plain": [
       "True"
      ]
     },
     "execution_count": 16,
     "metadata": {},
     "output_type": "execute_result"
    }
   ],
   "source": [
    "a==b or a==c"
   ]
  },
  {
   "cell_type": "code",
   "execution_count": 1,
   "metadata": {},
   "outputs": [
    {
     "name": "stdout",
     "output_type": "stream",
     "text": [
      "Enter first number :12\n",
      "Enter second number :56\n",
      "Result  68\n"
     ]
    }
   ],
   "source": [
    "num1=int(input(\"Enter first number :\"))\n",
    "num2=int(input(\"Enter second number :\"))\n",
    "res=num1+num2\n",
    "print(\"Result \",res)"
   ]
  },
  {
   "cell_type": "code",
   "execution_count": 19,
   "metadata": {},
   "outputs": [
    {
     "name": "stdout",
     "output_type": "stream",
     "text": [
      "Enter age :89\n",
      "Senior citizen\n"
     ]
    }
   ],
   "source": [
    "age=int(input(\"Enter age :\"))\n",
    "if(age>60):\n",
    "    print(\"Senior citizen\")\n",
    "\n",
    "else:\n",
    "    print(\"Normal citizen\")"
   ]
  },
  {
   "cell_type": "code",
   "execution_count": 21,
   "metadata": {},
   "outputs": [
    {
     "name": "stdout",
     "output_type": "stream",
     "text": [
      "Enter number :3\n",
      "Odd number\n"
     ]
    }
   ],
   "source": [
    "num=int(input(\"Enter number :\"))\n",
    "if(num%2==0):\n",
    "    print(\"Even number\")\n",
    "else:\n",
    "    print(\"Odd number\")"
   ]
  },
  {
   "cell_type": "code",
   "execution_count": 22,
   "metadata": {},
   "outputs": [
    {
     "name": "stdout",
     "output_type": "stream",
     "text": [
      "Enter number 1 :100\n",
      "Enter number 2 :34\n",
      "Enter number 3 :130\n",
      "130  is greater\n"
     ]
    }
   ],
   "source": [
    "num1=int(input(\"Enter number 1 :\"))\n",
    "num2=int(input(\"Enter number 2 :\"))\n",
    "num3=int(input(\"Enter number 3 :\"))\n",
    "if(num1>num2 and num1>num3):\n",
    "    print(num1,\" is greater\")\n",
    "elif(num2>num1 and num2>num3):\n",
    "    print(num2,\" is greater\")\n",
    "else:\n",
    "    print(num3,\" is greater\")"
   ]
  },
  {
   "cell_type": "code",
   "execution_count": 3,
   "metadata": {},
   "outputs": [
    {
     "name": "stdout",
     "output_type": "stream",
     "text": [
      "1 2 3 4 5 6 7 8 9 "
     ]
    }
   ],
   "source": [
    "for i in range(1,10):\n",
    "    print(i,end=' ')"
   ]
  },
  {
   "cell_type": "code",
   "execution_count": 26,
   "metadata": {},
   "outputs": [
    {
     "name": "stdout",
     "output_type": "stream",
     "text": [
      "Enter start point:12\n",
      "Enter stop point :19\n",
      "12 14 16 18 "
     ]
    }
   ],
   "source": [
    "s1=int(input(\"Enter start point:\"))\n",
    "s2=int(input(\"Enter stop point :\"))\n",
    "for i in range(s1,s2+1):\n",
    "    if(i%2==0):\n",
    "        print(i,end=' ')"
   ]
  },
  {
   "cell_type": "code",
   "execution_count": 28,
   "metadata": {},
   "outputs": [
    {
     "name": "stdout",
     "output_type": "stream",
     "text": [
      "Enter start point :12\n",
      "Enter stop point :23\n",
      "even or odd:even\n",
      "12\n",
      "14\n",
      "16\n",
      "18\n",
      "20\n",
      "22\n"
     ]
    }
   ],
   "source": [
    "s1=int(input(\"Enter start point :\"))\n",
    "s2=int(input(\"Enter stop point :\"))\n",
    "ans=input(\"even or odd:\")\n",
    "if(ans=='even'):\n",
    "    for i in range(s1,s2+1):\n",
    "        if(i%2==0):\n",
    "            print(i)\n",
    "else:\n",
    "    for i in range(s1,s2+1):\n",
    "        if(i%2==1):\n",
    "            print(i)\n"
   ]
  },
  {
   "cell_type": "code",
   "execution_count": 29,
   "metadata": {},
   "outputs": [
    {
     "name": "stdout",
     "output_type": "stream",
     "text": [
      "0 1 2 3 4 5 6 7 8 9 "
     ]
    }
   ],
   "source": [
    "i=0\n",
    "while i<10:\n",
    "    print(i,end=' ')\n",
    "    i+=1\n"
   ]
  },
  {
   "cell_type": "code",
   "execution_count": 30,
   "metadata": {},
   "outputs": [
    {
     "name": "stdout",
     "output_type": "stream",
     "text": [
      "Enter first number :12\n",
      "Enter second number :23\n",
      "35\n",
      "Want to continue(y/n):y\n",
      "Enter first number :23\n",
      "Enter second number :34\n",
      "57\n",
      "Want to continue(y/n):n\n"
     ]
    }
   ],
   "source": [
    "ans='y'\n",
    "while(ans=='y'):\n",
    "    num1=int(input(\"Enter first number :\"))\n",
    "    num2=int(input(\"Enter second number :\"))\n",
    "    res=num1+num2\n",
    "    print(num1+num2)\n",
    "    ans=input(\"Want to continue(y/n):\")\n",
    "    if(ans=='y'):\n",
    "        continue"
   ]
  },
  {
   "cell_type": "code",
   "execution_count": null,
   "metadata": {},
   "outputs": [],
   "source": []
  }
 ],
 "metadata": {
  "kernelspec": {
   "display_name": "Python 3",
   "language": "python",
   "name": "python3"
  },
  "language_info": {
   "codemirror_mode": {
    "name": "ipython",
    "version": 3
   },
   "file_extension": ".py",
   "mimetype": "text/x-python",
   "name": "python",
   "nbconvert_exporter": "python",
   "pygments_lexer": "ipython3",
   "version": "3.7.3"
  }
 },
 "nbformat": 4,
 "nbformat_minor": 2
}
