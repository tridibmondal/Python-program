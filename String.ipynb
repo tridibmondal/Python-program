{
 "cells": [
  {
   "cell_type": "code",
   "execution_count": 18,
   "metadata": {},
   "outputs": [
    {
     "name": "stdout",
     "output_type": "stream",
     "text": [
      "Enter the stringAyushi SHARMA\n",
      "ASHARMA\n"
     ]
    }
   ],
   "source": [
    "str1=input(\"Enter the string\")\n",
    "str2=\"\"\n",
    "for i in range(len(str1)):\n",
    "    if(str1[i]>=\"A\" and str1[i]<=\"Z\"):\n",
    "        str2+=str1[i]\n",
    "print(str2)\n",
    "\n",
    "        #print(str2)\n",
    "    \n",
    "        #str2=str1[i]+str2\n",
    "        #print(str2)\n",
    "    \n",
    "      "
   ]
  },
  {
   "cell_type": "code",
   "execution_count": 26,
   "metadata": {},
   "outputs": [
    {
     "name": "stdout",
     "output_type": "stream",
     "text": [
      "enter the String545,RR\n",
      "545,RR\n"
     ]
    }
   ],
   "source": [
    "str1=input(\"enter the String\")\n",
    "str2=\"\"\n",
    "for i in range(len(str1)):\n",
    "    #if(str1[i]==\",\" or str1[i]==\".\" or str1[i]==\"/\" or str1[i]==\"!\"):\n",
    "        str1[i].replace(\",\",\" \",1)\n",
    "print(str1)\n",
    "    "
   ]
  },
  {
   "cell_type": "code",
   "execution_count": null,
   "metadata": {},
   "outputs": [],
   "source": []
  },
  {
   "cell_type": "code",
   "execution_count": null,
   "metadata": {},
   "outputs": [],
   "source": []
  }
 ],
 "metadata": {
  "kernelspec": {
   "display_name": "Python 3",
   "language": "python",
   "name": "python3"
  },
  "language_info": {
   "codemirror_mode": {
    "name": "ipython",
    "version": 3
   },
   "file_extension": ".py",
   "mimetype": "text/x-python",
   "name": "python",
   "nbconvert_exporter": "python",
   "pygments_lexer": "ipython3",
   "version": "3.7.3"
  }
 },
 "nbformat": 4,
 "nbformat_minor": 2
}
