{
 "cells": [
  {
   "cell_type": "code",
   "execution_count": 1,
   "metadata": {},
   "outputs": [
    {
     "ename": "OperationalError",
     "evalue": "table Bank already exists",
     "output_type": "error",
     "traceback": [
      "\u001b[1;31m---------------------------------------------------------------------------\u001b[0m",
      "\u001b[1;31mOperationalError\u001b[0m                          Traceback (most recent call last)",
      "\u001b[1;32m<ipython-input-1-73c4677db5b5>\u001b[0m in \u001b[0;36m<module>\u001b[1;34m\u001b[0m\n\u001b[0;32m      2\u001b[0m \u001b[0mmydb\u001b[0m\u001b[1;33m=\u001b[0m\u001b[0msqlite3\u001b[0m\u001b[1;33m.\u001b[0m\u001b[0mconnect\u001b[0m\u001b[1;33m(\u001b[0m\u001b[1;34m\"Sample2.db\"\u001b[0m\u001b[1;33m)\u001b[0m\u001b[1;33m\u001b[0m\u001b[1;33m\u001b[0m\u001b[0m\n\u001b[0;32m      3\u001b[0m \u001b[0mc\u001b[0m\u001b[1;33m=\u001b[0m\u001b[0mmydb\u001b[0m\u001b[1;33m.\u001b[0m\u001b[0mcursor\u001b[0m\u001b[1;33m(\u001b[0m\u001b[1;33m)\u001b[0m\u001b[1;33m\u001b[0m\u001b[1;33m\u001b[0m\u001b[0m\n\u001b[1;32m----> 4\u001b[1;33m \u001b[0mc\u001b[0m\u001b[1;33m.\u001b[0m\u001b[0mexecute\u001b[0m\u001b[1;33m(\u001b[0m\u001b[1;34m\"create table Bank(id integer,name text,balance integer)\"\u001b[0m\u001b[1;33m)\u001b[0m\u001b[1;33m\u001b[0m\u001b[1;33m\u001b[0m\u001b[0m\n\u001b[0m\u001b[0;32m      5\u001b[0m \u001b[0mmydb\u001b[0m\u001b[1;33m.\u001b[0m\u001b[0mcommit\u001b[0m\u001b[1;33m(\u001b[0m\u001b[1;33m)\u001b[0m\u001b[1;33m\u001b[0m\u001b[1;33m\u001b[0m\u001b[0m\n\u001b[0;32m      6\u001b[0m \u001b[0mprint\u001b[0m\u001b[1;33m(\u001b[0m\u001b[1;34m\"Bank table is created......\"\u001b[0m\u001b[1;33m)\u001b[0m\u001b[1;33m\u001b[0m\u001b[1;33m\u001b[0m\u001b[0m\n",
      "\u001b[1;31mOperationalError\u001b[0m: table Bank already exists"
     ]
    }
   ],
   "source": [
    "import sqlite3\n",
    "mydb=sqlite3.connect(\"Sample2.db\")\n",
    "c=mydb.cursor()\n",
    "c.execute(\"create table Bank(id integer,name text,balance integer)\")\n",
    "mydb.commit()\n",
    "print(\"Bank table is created......\")\n",
    "\n"
   ]
  },
  {
   "cell_type": "code",
   "execution_count": null,
   "metadata": {},
   "outputs": [
    {
     "name": "stdout",
     "output_type": "stream",
     "text": [
      "----Bank Mangement System-----\n",
      "1.Admin\n",
      "2.Customer\n",
      "Enter choice :2\n",
      "Enter your id :2\n",
      "----welcome Customer---\n",
      "1.Checkbalance\n",
      "2.Deposit\n",
      "3.widthdraw\n",
      "4.Exit\n",
      "Enter your Choice :1\n",
      "Your Balance is : 49500\n"
     ]
    }
   ],
   "source": [
    "print(\"----Bank Mangement System-----\")\n",
    "while True:\n",
    "    ch=int(input(\"\"\"1.Admin\\n2.Customer\\nEnter choice :\"\"\"))\n",
    "    if(ch==1):\n",
    "        v=int(input(\"1.View Customer\\n2.Create Account\\n3.exit\\nEnter your Choice :\"))\n",
    "        \n",
    "        if(v==1):\n",
    "            \n",
    "            c.execute(\"select * from Bank\")\n",
    "            res=c.fetchall()\n",
    "            for i in res:\n",
    "                print(i)\n",
    "        \n",
    "        elif(v==2):\n",
    "            \n",
    "            uid=input(\"Enter the Id :\")\n",
    "            uname=input(\"Enter the Name :\")\n",
    "            ubalance=input(\"Enter the Balance\")\n",
    "            c.execute(\"insert into Bank values(?,?,?)\",(uid,uname,ubalance))\n",
    "            mydb.commit()\n",
    "        \n",
    "        elif(v==3):\n",
    "            break\n",
    "    \n",
    "    \n",
    "    elif(ch==2):\n",
    "        \n",
    "        uid=input(\"Enter your id :\")\n",
    "        c.execute('select * from Bank where id=?',(uid,))\n",
    "        res1=c.fetchall()\n",
    "            \n",
    "        if(res1):\n",
    "            print(\"----welcome Customer---\")\n",
    "            ch1=int(input(\"1.Checkbalance\\n2.Deposit\\n3.widthdraw\\n4.Exit\\nEnter your Choice :\"))\n",
    "            if(ch1==1):\n",
    "                c.execute('select balance from Bank where id=?',(uid))\n",
    "                bal=c.fetchall()\n",
    "                x=int(bal[0][0])\n",
    "                print(\"Your Balance is :\",x)\n",
    "            elif(ch1==2):\n",
    "                c.execute('select balance from Bank where id=?',(uid))\n",
    "                bal=c.fetchall()\n",
    "                x=int(bal[0][0])\n",
    "                D=int(input(\"enter the amount to be deposited :\"))\n",
    "                D=D+x\n",
    "                c.execute('update Bank set balance=? where id=?',(D,uid,))\n",
    "                print(\"balance updated\")\n",
    "                mydb.commit()\n",
    "            elif(ch1==3):\n",
    "                c.execute('select balance from Bank where id=?',(uid))\n",
    "                bal=c.fetchall()\n",
    "                x=int(bal[0][0])\n",
    "                W=int(input(\"enter the amount to be Widthdraw :\"))\n",
    "                if(x<=W):\n",
    "                    print(\"Insufficent balance amount cannot be withdrawn :\")\n",
    "                else:\n",
    "                    W=x-W\n",
    "                    c.execute('update Bank set balance=? where id=?',(W,uid,))\n",
    "                    print(\"balance updated\")\n",
    "                    mydb.commit()\n",
    "            elif(ch1==4):\n",
    "                break\n",
    "        else:\n",
    "            print(\"id did not match enter the correct id\")\n",
    "\n",
    "                    \n",
    "                    \n",
    "                \n",
    "               \n",
    "                \n",
    "                \n",
    "                    \n",
    "                \n",
    "        \n",
    "        \n",
    "        \n",
    "        \n",
    "        \n",
    "    \n",
    "    \n",
    "    \n",
    "\n",
    "             "
   ]
  },
  {
   "cell_type": "code",
   "execution_count": null,
   "metadata": {},
   "outputs": [],
   "source": []
  }
 ],
 "metadata": {
  "kernelspec": {
   "display_name": "Python 3",
   "language": "python",
   "name": "python3"
  },
  "language_info": {
   "codemirror_mode": {
    "name": "ipython",
    "version": 3
   },
   "file_extension": ".py",
   "mimetype": "text/x-python",
   "name": "python",
   "nbconvert_exporter": "python",
   "pygments_lexer": "ipython3",
   "version": "3.7.3"
  }
 },
 "nbformat": 4,
 "nbformat_minor": 2
}
