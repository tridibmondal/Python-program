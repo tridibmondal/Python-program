{
 "cells": [
  {
   "cell_type": "code",
   "execution_count": null,
   "metadata": {},
   "outputs": [],
   "source": [
    "import sqlite3"
   ]
  },
  {
   "cell_type": "code",
   "execution_count": null,
   "metadata": {},
   "outputs": [],
   "source": [
    "mydb=sqlite3.connect(\"salt.db\")\n",
    "c=mydb.cursor()\n",
    "c.execute(\"create table info(name text,addr text,phn integer)\")\n",
    "mydb.commit()\n",
    "print(\"Table created.....\")"
   ]
  },
  {
   "cell_type": "code",
   "execution_count": null,
   "metadata": {},
   "outputs": [],
   "source": [
    "c.execute(\"insert into info values(?,?,?)\",(\"tridib\",\"durgapur\",8617378757))\n",
    "mydb.commit()\n",
    "print(\"Record inserted.....\")\n",
    "\n"
   ]
  },
  {
   "cell_type": "code",
   "execution_count": null,
   "metadata": {},
   "outputs": [],
   "source": [
    "name=input(\"Enter name:\")\n",
    "Addr=input(\"Enter the address :\")\n",
    "Phn=int(input(\"Enter the phoneno :\"))\n",
    "c.execute(\"insert into info values(?,?,?)\",(name,Addr,Phn))\n",
    "mydb.commit()\n",
    "print(\" Another Record inserted.....\")\n",
    "\n",
    "\n"
   ]
  },
  {
   "cell_type": "code",
   "execution_count": null,
   "metadata": {},
   "outputs": [],
   "source": [
    "list1=[\n",
    "    ('Amir','Mumbai',865645692),\n",
    "    ('Salman','Mumbai',810267564)\n",
    "]\n",
    "c.executemany(\"insert into info values(?,?,?)\",list1)\n",
    "mydb.commit()\n",
    "print(\" Another Record inserted.....\")\n",
    "\n",
    "\n",
    "\n",
    "\n",
    "\n"
   ]
  },
  {
   "cell_type": "code",
   "execution_count": 2,
   "metadata": {},
   "outputs": [
    {
     "name": "stdout",
     "output_type": "stream",
     "text": [
      "('tridib', 'durgapur', 8617378757)\n",
      "('Ram', 'Kolkata', 7478552684)\n",
      "('Salman', 'Mumbai', 810267564)\n"
     ]
    }
   ],
   "source": [
    "c.execute(\"select * from info\")\n",
    "res=c.fetchall()\n",
    "for i in res:\n",
    "    print(i)"
   ]
  },
  {
   "cell_type": "code",
   "execution_count": null,
   "metadata": {},
   "outputs": [],
   "source": [
    "import sqlite3\n",
    "mydb=sqlite3.connect(\"salt.db\")\n",
    "c=mydb.cursor()\n",
    "\n",
    "name=input(\"Enter name: \")\n",
    "c.execute(\"select * from info where name=?\",(name,))\n",
    "res=c.fetchall()\n",
    "if(res):\n",
    "    print(\"Hello\",res[0][0])\n",
    "else:\n",
    "    print(\"Record not found\")"
   ]
  },
  {
   "cell_type": "code",
   "execution_count": 1,
   "metadata": {},
   "outputs": [
    {
     "name": "stdout",
     "output_type": "stream",
     "text": [
      "Enter name to delete recordAmir\n",
      "record deleted....\n"
     ]
    }
   ],
   "source": [
    "import sqlite3\n",
    "mydb=sqlite3.connect(\"salt.db\")\n",
    "c=mydb.cursor()\n",
    "name=input(\"Enter name to delete record\")\n",
    "c.execute(\"delete from info where name=?\",(name,))\n",
    "mydb.commit()\n",
    "print(\"record deleted....\")"
   ]
  },
  {
   "cell_type": "code",
   "execution_count": 8,
   "metadata": {},
   "outputs": [
    {
     "name": "stdout",
     "output_type": "stream",
     "text": [
      "please enter name :Ram\n",
      "enter new Adress :Delhi\n",
      "Enter new Phone number:56263231\n"
     ]
    },
    {
     "ename": "NameError",
     "evalue": "name 'Phn' is not defined",
     "output_type": "error",
     "traceback": [
      "\u001b[1;31m---------------------------------------------------------------------------\u001b[0m",
      "\u001b[1;31mNameError\u001b[0m                                 Traceback (most recent call last)",
      "\u001b[1;32m<ipython-input-8-f5ebb16096da>\u001b[0m in \u001b[0;36m<module>\u001b[1;34m\u001b[0m\n\u001b[0;32m      6\u001b[0m \u001b[0mname\u001b[0m\u001b[1;33m=\u001b[0m\u001b[0minput\u001b[0m\u001b[1;33m(\u001b[0m\u001b[1;34m\"Enter new Phone number:\"\u001b[0m\u001b[1;33m)\u001b[0m\u001b[1;33m\u001b[0m\u001b[1;33m\u001b[0m\u001b[0m\n\u001b[0;32m      7\u001b[0m \u001b[1;33m\u001b[0m\u001b[0m\n\u001b[1;32m----> 8\u001b[1;33m \u001b[0mc\u001b[0m\u001b[1;33m.\u001b[0m\u001b[0mexecute\u001b[0m\u001b[1;33m(\u001b[0m\u001b[1;34m\"update info set Addr=?,phn=? where name=?\"\u001b[0m\u001b[1;33m,\u001b[0m\u001b[1;33m(\u001b[0m\u001b[0mAddr\u001b[0m\u001b[1;33m,\u001b[0m\u001b[0mPhn\u001b[0m\u001b[1;33m,\u001b[0m\u001b[0mname\u001b[0m\u001b[1;33m)\u001b[0m\u001b[1;33m)\u001b[0m\u001b[1;33m\u001b[0m\u001b[1;33m\u001b[0m\u001b[0m\n\u001b[0m\u001b[0;32m      9\u001b[0m \u001b[0mmydb\u001b[0m\u001b[1;33m.\u001b[0m\u001b[0mcommit\u001b[0m\u001b[1;33m(\u001b[0m\u001b[1;33m)\u001b[0m\u001b[1;33m\u001b[0m\u001b[1;33m\u001b[0m\u001b[0m\n\u001b[0;32m     10\u001b[0m \u001b[0mprint\u001b[0m\u001b[1;33m(\u001b[0m\u001b[1;34m\"record updated\"\u001b[0m\u001b[1;33m)\u001b[0m\u001b[1;33m\u001b[0m\u001b[1;33m\u001b[0m\u001b[0m\n",
      "\u001b[1;31mNameError\u001b[0m: name 'Phn' is not defined"
     ]
    }
   ],
   "source": [
    "import sqlite3\n",
    "mydb=sqlite3.connect(\"salt.db\")\n",
    "c=mydb.cursor()\n",
    "name=input(\"please enter name :\")\n",
    "Addr=input(\"enter new Adress :\")\n",
    "name=input(\"Enter new Phone number:\")\n",
    "\n",
    "c.execute(\"update info set Addr=?,phn=? where name=?\",(Addr,Phn,name))\n",
    "mydb.commit()\n",
    "print(\"record updated\")\n"
   ]
  },
  {
   "cell_type": "code",
   "execution_count": null,
   "metadata": {},
   "outputs": [],
   "source": []
  }
 ],
 "metadata": {
  "kernelspec": {
   "display_name": "Python 3",
   "language": "python",
   "name": "python3"
  },
  "language_info": {
   "codemirror_mode": {
    "name": "ipython",
    "version": 3
   },
   "file_extension": ".py",
   "mimetype": "text/x-python",
   "name": "python",
   "nbconvert_exporter": "python",
   "pygments_lexer": "ipython3",
   "version": "3.7.3"
  }
 },
 "nbformat": 4,
 "nbformat_minor": 2
}
