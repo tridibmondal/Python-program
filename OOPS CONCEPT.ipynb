{
 "cells": [
  {
   "cell_type": "code",
   "execution_count": null,
   "metadata": {},
   "outputs": [],
   "source": []
  },
  {
   "cell_type": "code",
   "execution_count": null,
   "metadata": {},
   "outputs": [],
   "source": [
    "class Fan:\n",
    "    blade=3\n",
    "    def move(self):\n",
    "        print(\"fan is moving using\",self.blade,\"blades\")\n",
    "usha=Fan()\n",
    "usha.move()"
   ]
  },
  {
   "cell_type": "code",
   "execution_count": null,
   "metadata": {},
   "outputs": [],
   "source": [
    "class AddNum:\n",
    "    num1=10\n",
    "    num2=20\n",
    "    def res(self):\n",
    "        return(self.num1+self.num2)\n",
    "obj=AddNum()\n",
    "print(\"Result :\",obj.res())"
   ]
  },
  {
   "cell_type": "code",
   "execution_count": null,
   "metadata": {},
   "outputs": [],
   "source": [
    "class AddNum1:\n",
    "    def res1(self,n1,n2):\n",
    "        return(n1+n2)\n",
    "num1=int(input(\"enter number 1 :\"))\n",
    "num2=int(input(\"enter number 2 :\"))\n",
    "obj=AddNum1()\n",
    "print(\"Result :\",obj.res1(num1,num2))"
   ]
  },
  {
   "cell_type": "code",
   "execution_count": null,
   "metadata": {},
   "outputs": [],
   "source": [
    "class Oddeven:\n",
    "    def even(self,n1,n2):\n",
    "        for i in range(n1,n2+1):\n",
    "            if(i%2==0):\n",
    "                print(i)\n",
    "    def odd(self,n1,n2):\n",
    "        for i in range(n1,n2+1):\n",
    "            if(i%2==1):\n",
    "                print(i)\n",
    "obj=Oddeven()\n",
    "n1=int(input(\"enter the Start point :\"))\n",
    "n2=int(input(\"Enter stop point :\"))\n",
    "choice=input(\"odd or even\")\n",
    "if(choice=='even'):\n",
    "    obj.even(n1,n2)\n",
    "elif(choice=='odd'):\n",
    "    obj.odd(n1,n2)\n",
    "else:\n",
    "    print(\"wrong choice\")\n",
    "        "
   ]
  },
  {
   "cell_type": "code",
   "execution_count": null,
   "metadata": {},
   "outputs": [],
   "source": [
    "class Addnum3:\n",
    "    num1=num2=0\n",
    "    def __init__(self,num1,num2):\n",
    "        self.num1=num1\n",
    "        self.num2=num2\n",
    "    def res3(self):\n",
    "        print(\"Result :\",(self.num1+self.num2))\n",
    "obj=Addnum3(78,89)\n",
    "obj.res3()\n"
   ]
  },
  {
   "cell_type": "code",
   "execution_count": null,
   "metadata": {},
   "outputs": [],
   "source": [
    "class EvenOdd:\n",
    "    num1=0\n",
    "    def __init__(self,num1):\n",
    "        self.num1=num1\n",
    "    def res(self):\n",
    "        if(num1%2==0):\n",
    "            print(\"The number is even\",self.num1)\n",
    "        else:\n",
    "            print(\"the number is odd\",self.num1)\n",
    "num1=int(input(\"enter the number :\"))\n",
    "obj=EvenOdd(num1)\n",
    "obj.res()\n",
    "    "
   ]
  },
  {
   "cell_type": "code",
   "execution_count": null,
   "metadata": {},
   "outputs": [],
   "source": [
    "class Volume:\n",
    "    l=0\n",
    "    b=0\n",
    "    h=0\n",
    "    def __init__(self,l,b,h):\n",
    "        self.l=l\n",
    "        self.b=b\n",
    "        self.h=h\n",
    "    def res(self):\n",
    "        print(\"volume of box is :\",(l*b)*h)\n",
    "l=int(input(\"enter the length :\"))\n",
    "b=int(input(\"enter the breadth :\"))\n",
    "h=int(input(\"enter the height :\"))\n",
    "obj=Volume(l,b,h)\n",
    "obj.res()\n",
    "\n",
    "\n",
    "        \n",
    "    "
   ]
  },
  {
   "cell_type": "code",
   "execution_count": null,
   "metadata": {},
   "outputs": [],
   "source": [
    "class SuperClass:\n",
    "    def method1(self):\n",
    "        print(\"this is super class method\")\n",
    "class ChildClass(SuperClass):\n",
    "    def method2(self):\n",
    "        print(\"this is child class method\")\n",
    "obj=ChildClass()\n",
    "obj.method1()\n",
    "obj.method2()\n",
    "\n",
    "    "
   ]
  },
  {
   "cell_type": "code",
   "execution_count": null,
   "metadata": {},
   "outputs": [],
   "source": [
    "class GetData:\n",
    "    def __init__(self,l,b):\n",
    "        self.l=l\n",
    "        self.b=b\n",
    "class Perimeter(GetData):\n",
    "    def __init__(self,l,b):\n",
    "        super() .__init__(l,b)\n",
    "    def res(self):\n",
    "        p=2*(self.l+self.b)\n",
    "        print(\"Perimeter :\",p)\n",
    "        return p\n",
    "class Cost(Perimeter):\n",
    "    def __init__(self,l,b):\n",
    "        super() .__init__(l,b)\n",
    "    def getCost(self):\n",
    "        print(\"Total Cost :\",(self.res()*100))\n",
    "l=int(input(\"Enter length :\"))\n",
    "b=int(input(\"Enter breadth :\"))\n",
    "obj=Cost(l,b)\n",
    "obj.getCost()\n",
    "\n"
   ]
  },
  {
   "cell_type": "code",
   "execution_count": null,
   "metadata": {},
   "outputs": [],
   "source": [
    "class Class1:\n",
    "    def method1(self):\n",
    "        print(\"This is a method1\")\n",
    "class Class2:\n",
    "    def method2(self):\n",
    "        print(\"This is a method2\")\n",
    "class Class3(Class1,Class2):\n",
    "    def method3(self):\n",
    "        print(\"third method\")\n",
    "obj=Class3()\n",
    "obj.method1()\n",
    "obj.method2()\n",
    "obj.method3()\n",
    "        "
   ]
  },
  {
   "cell_type": "code",
   "execution_count": null,
   "metadata": {},
   "outputs": [],
   "source": [
    "class Data:\n",
    "    pi=3.14\n",
    "class Circle(Data):\n",
    "    r=0\n",
    "    def __init__(self,r):\n",
    "        self.r=r\n",
    "    def area(self):\n",
    "        print(\"Area of circle \",(self.pi*self.r*self.r))\n",
    "r=int(input(\"enter the Radius\"))\n",
    "c=Circle(r)\n",
    "c.area()"
   ]
  },
  {
   "cell_type": "code",
   "execution_count": 2,
   "metadata": {},
   "outputs": [
    {
     "name": "stdout",
     "output_type": "stream",
     "text": [
      "hello\n",
      "hello\n"
     ]
    }
   ],
   "source": [
    "from tkinter import *\n",
    "def show():\n",
    "    print(\"hello\")\n",
    "root=Tk()\n",
    "root.title(\"Test Window\")\n",
    "root.config(bg=\"cyan\")\n",
    "#Label(root,text=\"Say Hello\",fg=\"blue\").pack(side=LEFT)\n",
    "#Label(root,text=\"Hello\",bg=\"yellow\",fg=\"red\").grid(row=1,column=1)\n",
    "b=Button(root,text=\"click\",command=show).pack()\n",
    "\n",
    "root.mainloop()\n",
    "\n"
   ]
  },
  {
   "cell_type": "code",
   "execution_count": 8,
   "metadata": {},
   "outputs": [],
   "source": [
    "from tkinter import *\n",
    "def say():\n",
    "    name=e.get()\n",
    "    print(\"hello\",name)\n",
    "master=Tk()\n",
    "l1=Label(master,text=\"Enter Name :\")\n",
    "l1.grid(row=0,column=1)\n",
    "e=Entry(master)\n",
    "e.grid(row=0,column=2)\n",
    "b=Button(master,text=\"click\",command=say)\n",
    "b.grid(row=1,column=1)\n",
    "master.mainloop()"
   ]
  },
  {
   "cell_type": "code",
   "execution_count": 23,
   "metadata": {},
   "outputs": [],
   "source": [
    "from tkinter import *\n",
    "def Add():\n",
    "    num1=e.get()\n",
    "    num2=e.get()\n",
    "    print(\"Addition of the number\",num1+num2)\n",
    "master=Tk()\n",
    "l1=Label(master,text=\"Enter the first number :\")\n",
    "l1.grid(row=0,column=1)\n",
    "e1=Entry(master)\n",
    "e1.grid(row=0,column=2)\n",
    "l2=Label(master,text=\"enter the second number : \")\n",
    "l2.grid(row=1,column=2)\n",
    "e2=Entry(master)\n",
    "e2.grid(row=1,column=1)\n",
    "b=Button(master,text=\"click\",command=Add)\n",
    "b.grid(row=1,column=1)\n",
    "master.mainloop()\n",
    "\n",
    "\n"
   ]
  },
  {
   "cell_type": "code",
   "execution_count": 26,
   "metadata": {},
   "outputs": [
    {
     "name": "stdout",
     "output_type": "stream",
     "text": [
      "3\n"
     ]
    }
   ],
   "source": [
    "from tkinter import *\n",
    "def add():\n",
    "    n1=int(e1.get())\n",
    "    n2=int(e2.get())\n",
    "    print(n1+n2)\n",
    "    e1.delete(0,END)\n",
    "    e2.delete(0,END)\n",
    "master=Tk()\n",
    "l1=Label(master,text=\"first Number :\")\n",
    "l1.grid(row=1,column=1)\n",
    "l2=Label(master,text=\"Second Number :\")\n",
    "l2.grid(row=2,column=1)\n",
    "\n",
    "e1=Entry(master)\n",
    "e1.grid(row=1,column=2)\n",
    "e2=Entry(master)\n",
    "e2.grid(row=2,column=2)\n",
    "b=Button(master,text=\"Add\",command=add)\n",
    "b.grid(row=3,column=2)\n",
    "master.mainloop()"
   ]
  },
  {
   "cell_type": "code",
   "execution_count": null,
   "metadata": {},
   "outputs": [],
   "source": []
  }
 ],
 "metadata": {
  "kernelspec": {
   "display_name": "Python 3",
   "language": "python",
   "name": "python3"
  },
  "language_info": {
   "codemirror_mode": {
    "name": "ipython",
    "version": 3
   },
   "file_extension": ".py",
   "mimetype": "text/x-python",
   "name": "python",
   "nbconvert_exporter": "python",
   "pygments_lexer": "ipython3",
   "version": "3.7.3"
  }
 },
 "nbformat": 4,
 "nbformat_minor": 2
}
