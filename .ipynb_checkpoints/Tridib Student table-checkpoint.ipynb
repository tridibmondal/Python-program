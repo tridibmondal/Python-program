{
 "cells": [
  {
   "cell_type": "code",
   "execution_count": null,
   "metadata": {},
   "outputs": [],
   "source": [
    "import sqlite3\n",
    "mydb=sqlite3.connect(\"Sample2.db\")\n",
    "c=mydb.cursor()\n",
    "c.execute(\"create table Student(id text,phy text,chem text,maths text,avg text,grade text)\")\n",
    "mydb.commit()\n",
    "print(\"Student table is created......\")\n"
   ]
  },
  {
   "cell_type": "code",
   "execution_count": null,
   "metadata": {},
   "outputs": [],
   "source": [
    "phy=input(\"Physics:\")\n",
    "chem=input(\"Chemistry\")\n",
    "math=input(\"Maths :\")\n",
    "id=input(\"ID :\")\n",
    "list1=[\n",
    "    (id,phy,chem,math,0,'na'),\n",
    "]\n",
    "c.executemany(\"insert into Student values(?,?,?,?,?,?)\",list1)\n",
    "mydb.commit()\n",
    "print(\"Record inserted.....\")\n"
   ]
  },
  {
   "cell_type": "code",
   "execution_count": 1,
   "metadata": {},
   "outputs": [
    {
     "ename": "SyntaxError",
     "evalue": "invalid syntax (<ipython-input-1-9cb485a9a354>, line 6)",
     "output_type": "error",
     "traceback": [
      "\u001b[1;36m  File \u001b[1;32m\"<ipython-input-1-9cb485a9a354>\"\u001b[1;36m, line \u001b[1;32m6\u001b[0m\n\u001b[1;33m    res=c.fetchall()\u001b[0m\n\u001b[1;37m      ^\u001b[0m\n\u001b[1;31mSyntaxError\u001b[0m\u001b[1;31m:\u001b[0m invalid syntax\n"
     ]
    }
   ],
   "source": [
    "import sqlite3\n",
    "id=input(\"Enter ID :\")\n",
    "mydb=sqlite3.connect(\"Sample2.db\")\n",
    "c=mydb.cursor()\n",
    "c.execute('select * from student where id=?',(id,)\n",
    "res=c.fetchall()\n",
    "for i in res:\n",
    "    id=res[0][0]\n",
    "    total=int(res[0][1])+int(res[0][2])+int(res[0][3])\n",
    "    print(total)\n",
    "    avg=total//3\n",
    "    print(avg)\n",
    "    if(avg<30):\n",
    "        grd='F'\n",
    "    elif(avg>=30 and avg<=40):\n",
    "        grd='D'\n",
    "    elif(avg>40 and avg<50):\n",
    "        grd='C'\n",
    "    elif(avg>=50 and avg<60):\n",
    "        grd='B'\n",
    "    elif(avg>=60 and avg<=70):\n",
    "        grd='A'\n",
    "    else:\n",
    "        grd='star'\n",
    "    c.execute('update student set avg=?,grade=? where id=?',(avg,grd,id,))\n",
    "    mydb.commit()\n",
    "print(\"Updated\")"
   ]
  },
  {
   "cell_type": "code",
   "execution_count": 2,
   "metadata": {},
   "outputs": [
    {
     "name": "stdout",
     "output_type": "stream",
     "text": [
      "('1', '50', '60', '70', '60', 'A')\n",
      "('2', '70', '80', '90', '0', 'na')\n"
     ]
    }
   ],
   "source": [
    "import sqlite3\n",
    "mydb=sqlite3.connect(\"Sample2.db\")\n",
    "c=mydb.cursor()\n",
    "c.execute('select * from student')\n",
    "res=c.fetchall()\n",
    "for i in res:\n",
    "    print(i)"
   ]
  },
  {
   "cell_type": "code",
   "execution_count": null,
   "metadata": {},
   "outputs": [],
   "source": []
  },
  {
   "cell_type": "code",
   "execution_count": null,
   "metadata": {},
   "outputs": [],
   "source": []
  }
 ],
 "metadata": {
  "kernelspec": {
   "display_name": "Python 3",
   "language": "python",
   "name": "python3"
  },
  "language_info": {
   "codemirror_mode": {
    "name": "ipython",
    "version": 3
   },
   "file_extension": ".py",
   "mimetype": "text/x-python",
   "name": "python",
   "nbconvert_exporter": "python",
   "pygments_lexer": "ipython3",
   "version": "3.7.3"
  }
 },
 "nbformat": 4,
 "nbformat_minor": 2
}
