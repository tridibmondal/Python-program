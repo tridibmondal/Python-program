{
 "cells": [
  {
   "cell_type": "code",
   "execution_count": null,
   "metadata": {},
   "outputs": [],
   "source": []
  },
  {
   "cell_type": "code",
   "execution_count": null,
   "metadata": {},
   "outputs": [],
   "source": [
    "class Fan:\n",
    "    blade=3\n",
    "    def move(self):\n",
    "        print(\"fan is moving using\",self.blade,\"blades\")\n",
    "usha=Fan()\n",
    "usha.move()"
   ]
  },
  {
   "cell_type": "code",
   "execution_count": null,
   "metadata": {},
   "outputs": [],
   "source": [
    "class AddNum:\n",
    "    num1=10\n",
    "    num2=20\n",
    "    def res(self):\n",
    "        return(self.num1+self.num2)\n",
    "obj=AddNum()\n",
    "print(\"Result :\",obj.res())"
   ]
  },
  {
   "cell_type": "code",
   "execution_count": null,
   "metadata": {},
   "outputs": [],
   "source": [
    "class AddNum1:\n",
    "    def res1(self,n1,n2):\n",
    "        return(n1+n2)\n",
    "num1=int(input(\"enter number 1 :\"))\n",
    "num2=int(input(\"enter number 2 :\"))\n",
    "obj=AddNum1()\n",
    "print(\"Result :\",obj.res1(num1,num2))"
   ]
  },
  {
   "cell_type": "code",
   "execution_count": null,
   "metadata": {},
   "outputs": [],
   "source": [
    "class Oddeven:\n",
    "    def even(self,n1,n2):\n",
    "        for i in range(n1,n2+1):\n",
    "            if(i%2==0):\n",
    "                print(i)\n",
    "    def odd(self,n1,n2):\n",
    "        for i in range(n1,n2+1):\n",
    "            if(i%2==1):\n",
    "                print(i)\n",
    "obj=Oddeven()\n",
    "n1=int(input(\"enter the Start point :\"))\n",
    "n2=int(input(\"Enter stop point :\"))\n",
    "choice=input(\"odd or even\")\n",
    "if(choice=='even'):\n",
    "    obj.even(n1,n2)\n",
    "elif(choice=='odd'):\n",
    "    obj.odd(n1,n2)\n",
    "else:\n",
    "    print(\"wrong choice\")\n",
    "        "
   ]
  },
  {
   "cell_type": "code",
   "execution_count": 1,
   "metadata": {},
   "outputs": [
    {
     "name": "stdout",
     "output_type": "stream",
     "text": [
      "Result : 167\n"
     ]
    }
   ],
   "source": [
    "class Addnum3:\n",
    "    num1=num2=0\n",
    "    def __init__(self,num1,num2):\n",
    "        self.num1=num1\n",
    "        self.num2=num2\n",
    "    def res3(self):\n",
    "        print(\"Result :\",(self.num1+self.num2))\n",
    "obj=Addnum3(78,89)\n",
    "obj.res3()\n"
   ]
  },
  {
   "cell_type": "code",
   "execution_count": 5,
   "metadata": {},
   "outputs": [
    {
     "name": "stdout",
     "output_type": "stream",
     "text": [
      "enter the number :6\n",
      "The number is even 6\n"
     ]
    }
   ],
   "source": [
    "class EvenOdd:\n",
    "    num1=0\n",
    "    def __init__(self,num1):\n",
    "        self.num1=num1\n",
    "    def res(self):\n",
    "        if(num1%2==0):\n",
    "            print(\"The number is even\",self.num1)\n",
    "        else:\n",
    "            print(\"the number is odd\",self.num1)\n",
    "num1=int(input(\"enter the number :\"))\n",
    "obj=EvenOdd(num1)\n",
    "obj.res()\n",
    "    "
   ]
  },
  {
   "cell_type": "code",
   "execution_count": 7,
   "metadata": {},
   "outputs": [
    {
     "name": "stdout",
     "output_type": "stream",
     "text": [
      "enter the length :5\n",
      "enter the breadth :5\n",
      "enter the height :2\n",
      "volume of box is : 50\n"
     ]
    }
   ],
   "source": [
    "class Volume:\n",
    "    l=0\n",
    "    b=0\n",
    "    h=0\n",
    "    def __init__(self,l,b,h):\n",
    "        self.l=l\n",
    "        self.b=b\n",
    "        self.h=h\n",
    "    def res(self):\n",
    "        print(\"volume of box is :\",(l*b)*h)\n",
    "l=int(input(\"enter the length :\"))\n",
    "b=int(input(\"enter the breadth :\"))\n",
    "h=int(input(\"enter the height :\"))\n",
    "obj=Volume(l,b,h)\n",
    "obj.res()\n",
    "\n",
    "\n",
    "        \n",
    "    "
   ]
  },
  {
   "cell_type": "code",
   "execution_count": null,
   "metadata": {},
   "outputs": [],
   "source": []
  }
 ],
 "metadata": {
  "kernelspec": {
   "display_name": "Python 3",
   "language": "python",
   "name": "python3"
  },
  "language_info": {
   "codemirror_mode": {
    "name": "ipython",
    "version": 3
   },
   "file_extension": ".py",
   "mimetype": "text/x-python",
   "name": "python",
   "nbconvert_exporter": "python",
   "pygments_lexer": "ipython3",
   "version": "3.7.3"
  }
 },
 "nbformat": 4,
 "nbformat_minor": 2
}
