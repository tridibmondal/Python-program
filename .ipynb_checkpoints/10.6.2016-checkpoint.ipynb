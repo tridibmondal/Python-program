{
 "cells": [
  {
   "cell_type": "code",
   "execution_count": null,
   "metadata": {},
   "outputs": [],
   "source": [
    "5+4"
   ]
  },
  {
   "cell_type": "code",
   "execution_count": null,
   "metadata": {},
   "outputs": [],
   "source": [
    "def sayHello():\n",
    "    print(\"hello\")\n",
    "sayHello()"
   ]
  },
  {
   "cell_type": "code",
   "execution_count": null,
   "metadata": {},
   "outputs": [],
   "source": [
    "def sayHello():\n",
    "    return \"hello\"\n",
    "x=sayHello()\n",
    "print(x)\n",
    "\n"
   ]
  },
  {
   "cell_type": "code",
   "execution_count": null,
   "metadata": {},
   "outputs": [],
   "source": [
    "def getRes(a,b):\n",
    "    print(\"result:\",(a+b))\n",
    "num1=int(input(\"enter the first number\"))\n",
    "num2=int(input(\"enter the second number\"))\n",
    "getRes(num1,num2)"
   ]
  },
  {
   "cell_type": "code",
   "execution_count": null,
   "metadata": {},
   "outputs": [],
   "source": [
    "def hello(name ,greet=\"good Afternoon\"):\n",
    "    print(name,greet)\n",
    "name=input(\"enter the name :\")\n",
    "hello(name,\"hello\")"
   ]
  },
  {
   "cell_type": "code",
   "execution_count": null,
   "metadata": {},
   "outputs": [],
   "source": [
    "def fun1(*arg):\n",
    "    for i in arg:\n",
    "        print(i)\n",
    "fun1(10,20,30)"
   ]
  },
  {
   "cell_type": "code",
   "execution_count": null,
   "metadata": {},
   "outputs": [],
   "source": [
    "def fun(*arg):\n",
    "    sum=0\n",
    "    for i in arg:\n",
    "        sum=sum+i\n",
    "    print(sum)\n",
    "fun(10,20,30)"
   ]
  },
  {
   "cell_type": "code",
   "execution_count": null,
   "metadata": {},
   "outputs": [
    {
     "name": "stdout",
     "output_type": "stream",
     "text": [
      "add or sub sub\n"
     ]
    }
   ],
   "source": [
    "s=input(\"add or sub \")\n",
    "if(s==\"add\"):\n",
    "    \n",
    "    def add(a,b):\n",
    "        print(\"result :\",(a+b))\n",
    "    num1=int(input(\"enter the first number\"))\n",
    "    num2=int(input(\"enter the second number\"))\n",
    "    add(num1,num2)\n",
    "\n",
    "elif(s==\"sub\"):\n",
    "    def sub(x,y):\n",
    "        print(\"result:\",(x-y))\n",
    "    num1=int(input(\"enter the first number\"))\n",
    "    num2=int(input(\"enter the second number\"))\n",
    "    sub(num1,num2)\n",
    "else:\n",
    "    print(\"wrong choice\")\n",
    "\n",
    "\n"
   ]
  },
  {
   "cell_type": "code",
   "execution_count": null,
   "metadata": {},
   "outputs": [],
   "source": [
    "def cal_factorial(x):\n",
    "    if(x==1):\n",
    "        return 1\n",
    "    else:\n",
    "        return(x*cal_factorial(x-1))\n",
    "n=5\n",
    "print(\"the factorial is\",n,'is',cal_factorial(n))"
   ]
  },
  {
   "cell_type": "code",
   "execution_count": null,
   "metadata": {},
   "outputs": [],
   "source": [
    "double=lambda x:x*2\n",
    "print(double(5))"
   ]
  },
  {
   "cell_type": "code",
   "execution_count": null,
   "metadata": {},
   "outputs": [],
   "source": [
    "def fib(n):\n",
    "    if n<=1:\n",
    "        return n\n",
    "    else:\n",
    "        return(fib(n-1)+fib(n-2))\n",
    "nterms=int(input(\"enter the number\"))\n",
    "if nterms<=0:\n",
    "    print(\"please enter a postive number :\")\n",
    "else:\n",
    "    print(\"the fabonicii series is :\")\n",
    "    for i in range(nterms):\n",
    "        print(fib(i),end=' ')\n",
    "        "
   ]
  },
  {
   "cell_type": "code",
   "execution_count": 5,
   "metadata": {},
   "outputs": [
    {
     "name": "stdout",
     "output_type": "stream",
     "text": [
      "the numbers are not prime\n"
     ]
    }
   ],
   "source": [
    "\n",
    "def prime(x):\n",
    "    c=0\n",
    "    for i in range(2,x):\n",
    "        if(x%i==0):\n",
    "            c=1\n",
    "            break\n",
    "    if(c==0):\n",
    "        print(\"prime\")\n",
    "    else:\n",
    "        print(\"the numbers are not prime\")\n",
    "prime(18)\n",
    "    \n"
   ]
  },
  {
   "cell_type": "code",
   "execution_count": 13,
   "metadata": {},
   "outputs": [
    {
     "name": "stdout",
     "output_type": "stream",
     "text": [
      "enter a number :101\n",
      "101 is not an armstrong\n"
     ]
    }
   ],
   "source": [
    "num=int(input(\"enter a number :\"))\n",
    "sum=0\n",
    "temp=num\n",
    "while(temp>0):\n",
    "    r=temp%10;\n",
    "    sum=sum+r**3\n",
    "    temp=temp//10\n",
    "if(num==sum):\n",
    "    print(num ,\"is an armstrong\")\n",
    "else:\n",
    "    print(num ,\"is not an armstrong\")\n",
    "    \n"
   ]
  },
  {
   "cell_type": "code",
   "execution_count": null,
   "metadata": {},
   "outputs": [],
   "source": []
  }
 ],
 "metadata": {
  "kernelspec": {
   "display_name": "Python 3",
   "language": "python",
   "name": "python3"
  },
  "language_info": {
   "codemirror_mode": {
    "name": "ipython",
    "version": 3
   },
   "file_extension": ".py",
   "mimetype": "text/x-python",
   "name": "python",
   "nbconvert_exporter": "python",
   "pygments_lexer": "ipython3",
   "version": "3.7.3"
  }
 },
 "nbformat": 4,
 "nbformat_minor": 2
}
