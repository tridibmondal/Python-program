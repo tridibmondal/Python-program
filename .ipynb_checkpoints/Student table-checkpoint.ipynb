{
 "cells": [
  {
   "cell_type": "code",
   "execution_count": null,
   "metadata": {},
   "outputs": [],
   "source": [
    "import sqlite3"
   ]
  },
  {
   "cell_type": "code",
   "execution_count": 1,
   "metadata": {},
   "outputs": [
    {
     "ename": "OperationalError",
     "evalue": "table Marks already exists",
     "output_type": "error",
     "traceback": [
      "\u001b[1;31m---------------------------------------------------------------------------\u001b[0m",
      "\u001b[1;31mOperationalError\u001b[0m                          Traceback (most recent call last)",
      "\u001b[1;32m<ipython-input-1-7c9903f49177>\u001b[0m in \u001b[0;36m<module>\u001b[1;34m\u001b[0m\n\u001b[0;32m      2\u001b[0m \u001b[0mmydb\u001b[0m\u001b[1;33m=\u001b[0m\u001b[0msqlite3\u001b[0m\u001b[1;33m.\u001b[0m\u001b[0mconnect\u001b[0m\u001b[1;33m(\u001b[0m\u001b[1;34m\"Sample1.db\"\u001b[0m\u001b[1;33m)\u001b[0m\u001b[1;33m\u001b[0m\u001b[1;33m\u001b[0m\u001b[0m\n\u001b[0;32m      3\u001b[0m \u001b[0mc\u001b[0m\u001b[1;33m=\u001b[0m\u001b[0mmydb\u001b[0m\u001b[1;33m.\u001b[0m\u001b[0mcursor\u001b[0m\u001b[1;33m(\u001b[0m\u001b[1;33m)\u001b[0m\u001b[1;33m\u001b[0m\u001b[1;33m\u001b[0m\u001b[0m\n\u001b[1;32m----> 4\u001b[1;33m \u001b[0mc\u001b[0m\u001b[1;33m.\u001b[0m\u001b[0mexecute\u001b[0m\u001b[1;33m(\u001b[0m\u001b[1;34m\"create table Marks(id integer,phy integer,chem integer,maths integer,avg integer,grade text)\"\u001b[0m\u001b[1;33m)\u001b[0m\u001b[1;33m\u001b[0m\u001b[1;33m\u001b[0m\u001b[0m\n\u001b[0m\u001b[0;32m      5\u001b[0m \u001b[0mmydb\u001b[0m\u001b[1;33m.\u001b[0m\u001b[0mcommit\u001b[0m\u001b[1;33m(\u001b[0m\u001b[1;33m)\u001b[0m\u001b[1;33m\u001b[0m\u001b[1;33m\u001b[0m\u001b[0m\n\u001b[0;32m      6\u001b[0m \u001b[0mprint\u001b[0m\u001b[1;33m(\u001b[0m\u001b[1;34m\"Marks table is created......\"\u001b[0m\u001b[1;33m)\u001b[0m\u001b[1;33m\u001b[0m\u001b[1;33m\u001b[0m\u001b[0m\n",
      "\u001b[1;31mOperationalError\u001b[0m: table Marks already exists"
     ]
    }
   ],
   "source": [
    "import sqlite3\n",
    "mydb=sqlite3.connect(\"Sample1.db\")\n",
    "c=mydb.cursor()\n",
    "c.execute(\"create table Marks(id integer,phy integer,chem integer,maths integer,avg integer,grade text)\")\n",
    "mydb.commit()\n",
    "print(\"Marks table is created......\")\n"
   ]
  },
  {
   "cell_type": "code",
   "execution_count": 2,
   "metadata": {},
   "outputs": [
    {
     "name": "stdout",
     "output_type": "stream",
     "text": [
      "Record inserted.....\n"
     ]
    }
   ],
   "source": [
    "list1=[\n",
    "    (1,50,60,70,0,'na'),\n",
    "    (2,60,70,80,0,'na'),\n",
    "    (3,50,60,90,0,'na'),\n",
    "    (4,50,60,74,0,'na'),\n",
    "    \n",
    "]\n",
    "c.executemany(\"insert into Marks values(?,?,?,?,?,?)\",list1)\n",
    "mydb.commit()\n",
    "print(\"Record inserted.....\")\n"
   ]
  },
  {
   "cell_type": "code",
   "execution_count": 11,
   "metadata": {},
   "outputs": [
    {
     "name": "stdout",
     "output_type": "stream",
     "text": [
      "Enter your choice2\n",
      "enter the id1\n",
      "60.0\n"
     ]
    },
    {
     "ename": "AttributeError",
     "evalue": "'int' object has no attribute 'executenamy'",
     "output_type": "error",
     "traceback": [
      "\u001b[1;31m---------------------------------------------------------------------------\u001b[0m",
      "\u001b[1;31mAttributeError\u001b[0m                            Traceback (most recent call last)",
      "\u001b[1;32m<ipython-input-11-289d3a1fc246>\u001b[0m in \u001b[0;36m<module>\u001b[1;34m\u001b[0m\n\u001b[0;32m     50\u001b[0m             \u001b[1;33m(\u001b[0m\u001b[1;33m(\u001b[0m\u001b[0mavg\u001b[0m\u001b[1;33m,\u001b[0m\u001b[0mG\u001b[0m\u001b[1;33m,\u001b[0m\u001b[0mi\u001b[0m\u001b[1;33m)\u001b[0m\u001b[1;33m)\u001b[0m\u001b[1;33m,\u001b[0m\u001b[1;33m\u001b[0m\u001b[1;33m\u001b[0m\u001b[0m\n\u001b[0;32m     51\u001b[0m         ]\n\u001b[1;32m---> 52\u001b[1;33m         \u001b[0mc\u001b[0m\u001b[1;33m.\u001b[0m\u001b[0mexecutenamy\u001b[0m\u001b[1;33m(\u001b[0m\u001b[1;34m\"update Marks set avg=?,grade=? where id=?\"\u001b[0m\u001b[1;33m,\u001b[0m\u001b[0mlst\u001b[0m\u001b[1;33m)\u001b[0m\u001b[1;33m\u001b[0m\u001b[1;33m\u001b[0m\u001b[0m\n\u001b[0m\u001b[0;32m     53\u001b[0m         \u001b[0mmydb\u001b[0m\u001b[1;33m.\u001b[0m\u001b[0mcommit\u001b[0m\u001b[1;33m(\u001b[0m\u001b[1;33m)\u001b[0m\u001b[1;33m\u001b[0m\u001b[1;33m\u001b[0m\u001b[0m\n\u001b[0;32m     54\u001b[0m     \u001b[1;32melif\u001b[0m\u001b[1;33m(\u001b[0m\u001b[0mavg\u001b[0m\u001b[1;33m>=\u001b[0m\u001b[1;36m50\u001b[0m \u001b[1;32mand\u001b[0m \u001b[0mavg\u001b[0m\u001b[1;33m<\u001b[0m\u001b[1;36m60\u001b[0m\u001b[1;33m)\u001b[0m\u001b[1;33m:\u001b[0m\u001b[1;33m\u001b[0m\u001b[1;33m\u001b[0m\u001b[0m\n",
      "\u001b[1;31mAttributeError\u001b[0m: 'int' object has no attribute 'executenamy'"
     ]
    }
   ],
   "source": [
    "import sqlite3\n",
    "mydb=sqlite3.connect(\"Sample1.db\")\n",
    "c=mydb.cursor()\n",
    "choice=int(input(\"Enter your choice\"))\n",
    "if(choice==1):\n",
    "    c.execute(\"select * from Marks\")\n",
    "    res=c.fetchall()\n",
    "    for i in res:\n",
    "        print(i)\n",
    "elif(choice==2):\n",
    "    i=input(\"enter the id\")\n",
    "    c.execute(\"select phy,chem,maths from Marks where id=?\",(i,))\n",
    "    res1=c.fetchall()\n",
    "    a=res1[0][0]\n",
    "    b=res1[0][1]\n",
    "    c=res1[0][2]\n",
    "    avg=((a+b+c)/300)*100\n",
    "    print(avg)\n",
    "    str1=1\n",
    "    str2=2\n",
    "    str3=3\n",
    "    str4=4\n",
    "    str5=5\n",
    "    if(avg>=90):\n",
    "        G=str1\n",
    "        lst=[\n",
    "            ((avg,G,i)),\n",
    "        ]\n",
    "        c.executemany(\"update Marks set avg=?,grade=? where id=?\",lst)\n",
    "        mydb.commit()\n",
    "    elif(avg>=80 and avg<90):\n",
    "        G=str1\n",
    "        lst=[\n",
    "            ((avg,G,i)),\n",
    "        ]\n",
    "        c.executemany(\"update Marks set avg=?,grade=? where id=?\",lst)\n",
    "        mydb.commit()\n",
    "    elif(avg>=70 and avg<80):\n",
    "        G=str3\n",
    "        G=str1\n",
    "        lst=[\n",
    "            ((avg,G,i)),\n",
    "        ]\n",
    "        c.executemany(\"update Marks set avg=?,grade=? where id=?\",lst)\n",
    "        mydb.commit()\n",
    "    elif(avg>=60 and avg<70):\n",
    "        G=str4\n",
    "        G=str1\n",
    "        lst=[\n",
    "            ((avg,G,i)),\n",
    "        ]\n",
    "        c.executemany(\"update Marks set avg=?,grade=? where id=?\",lst)\n",
    "        mydb.commit()\n",
    "    elif(avg>=50 and avg<60):\n",
    "        G=str5\n",
    "        G=str1\n",
    "        lst=[\n",
    "            ((avg,G,i)),\n",
    "        ]\n",
    "        c.executemany(\"update Marks set avg=?,grade=? where id=?\",lst)\n",
    "        mydb.commit()\n",
    "    #G1=str(G)\n",
    "    #lst=[(avg,G1,i)]\n",
    "    #c.execute(\"update Marks set avg=?,grade=? where id=?\",(avg,G1,i))\n",
    "   # c.executemany(\"update marks set avg=?,grade=? where id=?\",lst)\n",
    "    #mydb.commit()\n",
    "    print(\"record updated\")\n",
    "    \n",
    "    \n",
    "        \n",
    "        \n",
    "    \n",
    "    \n"
   ]
  },
  {
   "cell_type": "code",
   "execution_count": null,
   "metadata": {},
   "outputs": [],
   "source": []
  },
  {
   "cell_type": "code",
   "execution_count": null,
   "metadata": {},
   "outputs": [],
   "source": []
  }
 ],
 "metadata": {
  "kernelspec": {
   "display_name": "Python 3",
   "language": "python",
   "name": "python3"
  },
  "language_info": {
   "codemirror_mode": {
    "name": "ipython",
    "version": 3
   },
   "file_extension": ".py",
   "mimetype": "text/x-python",
   "name": "python",
   "nbconvert_exporter": "python",
   "pygments_lexer": "ipython3",
   "version": "3.7.3"
  }
 },
 "nbformat": 4,
 "nbformat_minor": 2
}
