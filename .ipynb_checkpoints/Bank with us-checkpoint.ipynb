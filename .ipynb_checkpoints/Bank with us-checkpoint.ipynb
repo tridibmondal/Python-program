{
 "cells": [
  {
   "cell_type": "code",
   "execution_count": null,
   "metadata": {},
   "outputs": [
    {
     "name": "stdout",
     "output_type": "stream",
     "text": [
      "*******Bank with us********\n",
      "------Main menu-------\n",
      "\n",
      "\t\t1.New Customer \n",
      "\t\t2.Existing Customer\n",
      "\t\t3.Exit Enter choice :1\n",
      "\n",
      "Invalid Input\n"
     ]
    }
   ],
   "source": [
    "print(\"*******Bank with us********\")\n",
    "\n",
    "print(\"------Main menu-------\")\n",
    "\n",
    "bank_data={}\n",
    "user_data={}\n",
    "\n",
    "while True:\n",
    "\tch=int(input(\"\"\"\n",
    "\t\t1.New Customer \n",
    "\t\t2.Existing Customer\n",
    "\t\t3.Exit \n",
    "        Enter choice :\"\"\"))\n",
    "\tif(ch==1):\n",
    "\t\tname=input(\"enter the name :\")\n",
    "\t\tcity=input(\"enter the city :\")\n",
    "\t\tage=int(input(\"enter the age:\"))\n",
    "\t\tacc_type=input(\"enter account type :\")\n",
    "\t\tamt=int(input(\"enter intial amount :\"))\n",
    "\t\tacc_no=int(input(\"enter the account no\"))\n",
    "\n",
    "\n",
    "\t\tuser_data[\"name\"] = name\n",
    "\t\tuser_data[\"city\"] = city\n",
    "\t\tuser_data[\"age\"] = age\n",
    "\t\tuser_data[\"acc_type\"] = acc_type\n",
    "\t\tuser_data[\"amount\"] = amt\n",
    "\n",
    "\t\tbank_data[\"account number\"] = acc_no\n",
    "\t\tbank_data[\"detail\"] =user_data\n",
    "\n",
    "\t\tprint(\"\\n -----Account created Successfully----\")\n",
    "\n",
    "\telif(ch==2):\n",
    "\t\tacc_no=int(input(\"enter account number\"))\n",
    "\n",
    "\t\tif(acc_no==bank_data[\"account_number\"]):\n",
    "\t\t\tprint(\"\\n-------Account Exists--------\")\n",
    "\n",
    "\t\t\twhile True:\n",
    "\t\t\t\tprint(\"\\t\\t-----User Portal------\")\n",
    "\n",
    "\t\t\t\tu_ch=int(input(\"\\n1.check Balance\\n2.Withdrwa\\n3.Deposit\\n4.Back to main menu\\n\\nEnter choice:\"))\n",
    "\n",
    "\t\t\t\tif(u_ch==1):\n",
    "\t\t\t\t\tprint(\"your avaliable balance:\",bank_data[\"detail\"][\"amount\"])\n",
    "\t\t\t\t\n",
    "\t\t\t\telif(u_ch==2):\n",
    "\t\t\t\t\tw_amt=int(input(\"enter the amount to be Withdraw :\"))\n",
    "\t\t\t\t\tbank_data[\"detail\"][\"amount\"]=bank_data[\"detail\"][\"amount\"]-w_amt\n",
    "\t\t\t\t\tprint(\"Amount Withdrawn\")\n",
    "\t\t\t\t\n",
    "\t\t\t\telif(u_ch==3):\n",
    "\t\t\t\t\td_amt=int(input(\"enter the amount to be deposited :\"))\n",
    "\t\t\t\t\tbank_data[\"account_number\"][\"amount\"]=bank_data[\"detail\"][\"amount\"]+d_amt\n",
    "\t\t\t\t\tprint(\"\\n-----Amount deposited-----\")\n",
    "\n",
    "\t\t\t\telif(u_ch==4):\n",
    "\t\t\t\t\tbreak\n",
    "\n",
    "\t\t\t\telse:\n",
    "\t\t\t\t\tprint(\"\\nInvalid Input\")\n",
    "\n",
    "\t\telse:\n",
    "\t\t\tprint(\"-----Account does not exist------\")\n",
    "\n",
    "\telif(ch==3):\n",
    "\t\tbreak\n",
    "\n",
    "\telse:\n",
    "\t\tprint(\"\\nInvalid Input\")\n",
    "\n",
    "\n",
    "\n"
   ]
  },
  {
   "cell_type": "code",
   "execution_count": null,
   "metadata": {},
   "outputs": [],
   "source": []
  }
 ],
 "metadata": {
  "kernelspec": {
   "display_name": "Python 3",
   "language": "python",
   "name": "python3"
  },
  "language_info": {
   "codemirror_mode": {
    "name": "ipython",
    "version": 3
   },
   "file_extension": ".py",
   "mimetype": "text/x-python",
   "name": "python",
   "nbconvert_exporter": "python",
   "pygments_lexer": "ipython3",
   "version": "3.7.3"
  }
 },
 "nbformat": 4,
 "nbformat_minor": 2
}
