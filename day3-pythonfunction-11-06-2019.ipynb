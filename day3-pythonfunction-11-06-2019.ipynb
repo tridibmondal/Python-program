{
 "cells": [
  {
   "cell_type": "code",
   "execution_count": null,
   "metadata": {},
   "outputs": [],
   "source": [
    "def sayHello():\n",
    "    #print(\"Hello World\")\n",
    "    return \"Hello\"\n",
    "x=sayHello()\n",
    "print(x)"
   ]
  },
  {
   "cell_type": "code",
   "execution_count": 7,
   "metadata": {},
   "outputs": [
    {
     "name": "stdout",
     "output_type": "stream",
     "text": [
      "Enter first number :5\n",
      "Enter second number :5\n",
      "Result : 10\n"
     ]
    }
   ],
   "source": [
    "def getRes(a,b):\n",
    "    print(\"Result :\",(a+b))\n",
    "num1=int(input(\"Enter first number :\"))\n",
    "num2=int(input(\"Enter second number :\"))\n",
    "getRes(num1,num2)"
   ]
  },
  {
   "cell_type": "code",
   "execution_count": 2,
   "metadata": {},
   "outputs": [
    {
     "name": "stdout",
     "output_type": "stream",
     "text": [
      "Enter name :web\n",
      "web Hello\n"
     ]
    }
   ],
   "source": [
    "def Hello(name,greet=\"Good AfterNoon\"):\n",
    "    print(name,greet)\n",
    "name=input(\"Enter name :\")\n",
    "Hello(name,\"Hello\")\n"
   ]
  },
  {
   "cell_type": "code",
   "execution_count": 4,
   "metadata": {},
   "outputs": [
    {
     "name": "stdout",
     "output_type": "stream",
     "text": [
      "60\n"
     ]
    }
   ],
   "source": [
    "def func1(*arg):\n",
    "    s=0\n",
    "    for i in arg:\n",
    "        s=s+i\n",
    "    print(s)\n",
    "func1(10,20,30)"
   ]
  },
  {
   "cell_type": "code",
   "execution_count": 5,
   "metadata": {},
   "outputs": [
    {
     "name": "stdout",
     "output_type": "stream",
     "text": [
      "First number :12\n",
      "Second number :9\n",
      "add or subadd\n",
      "Result : 21\n"
     ]
    }
   ],
   "source": [
    "def showAdd(n1,n2):\n",
    "    return (n1+n2)\n",
    "def showSub(n1,n2):\n",
    "    return (n1-n2)\n",
    "num1=int(input(\"First number :\"))\n",
    "num2=int(input(\"Second number :\"))\n",
    "chs=input(\"add or sub\")\n",
    "if(chs=='add'):\n",
    "    print(\"Result :\",showAdd(num1,num2))\n",
    "elif(chs=='sub'):\n",
    "    print(\"Result :\",showSub())\n",
    "else:\n",
    "    print(\"Wrong choice...\")"
   ]
  },
  {
   "cell_type": "code",
   "execution_count": 7,
   "metadata": {},
   "outputs": [
    {
     "name": "stdout",
     "output_type": "stream",
     "text": [
      "the factorial of  4 is 24\n"
     ]
    }
   ],
   "source": [
    "def calc_factorial(x):\n",
    "    if(x==1):\n",
    "        return 1\n",
    "    else:\n",
    "        return (x*calc_factorial(x-1))\n",
    "n=4\n",
    "print(\"the factorial of \",n,'is',calc_factorial(n))"
   ]
  },
  {
   "cell_type": "code",
   "execution_count": 8,
   "metadata": {},
   "outputs": [
    {
     "name": "stdout",
     "output_type": "stream",
     "text": [
      "10\n"
     ]
    }
   ],
   "source": [
    "double=lambda x:x*2\n",
    "print(double(5))"
   ]
  },
  {
   "cell_type": "code",
   "execution_count": 10,
   "metadata": {},
   "outputs": [
    {
     "name": "stdout",
     "output_type": "stream",
     "text": [
      "Fibinacci sequence :\n",
      "0 1 1 2 3 5 8 13 21 34 "
     ]
    }
   ],
   "source": [
    "def rec_fibo(n):\n",
    "    if n<=1:\n",
    "        return n\n",
    "    else:\n",
    "        return (rec_fibo(n-1)+rec_fibo(n-2))\n",
    "nterms=10\n",
    "if nterms<=0:\n",
    "    print(\"Please enter a positive number \")\n",
    "else:\n",
    "    print(\"Fibinacci sequence :\")\n",
    "    for i in range(nterms):\n",
    "        print(rec_fibo(i),end=' ')"
   ]
  },
  {
   "cell_type": "code",
   "execution_count": null,
   "metadata": {},
   "outputs": [],
   "source": [
    "def double(a):\n",
    "    return a*2\n",
    "double(5)"
   ]
  },
  {
   "cell_type": "code",
   "execution_count": 11,
   "metadata": {},
   "outputs": [
    {
     "name": "stdout",
     "output_type": "stream",
     "text": [
      "prime number for 900 and 1000 are :\n",
      "907\n",
      "911\n",
      "919\n",
      "929\n",
      "937\n",
      "941\n",
      "947\n",
      "953\n",
      "967\n",
      "971\n",
      "977\n",
      "983\n",
      "991\n",
      "997\n"
     ]
    }
   ],
   "source": [
    "lower=900\n",
    "upper=1000\n",
    "print(\"prime number for\",lower,\"and\",upper,\"are :\")\n",
    "for num in range(lower,upper+1):\n",
    "    if num>1:\n",
    "        for i in range(2,num):\n",
    "            if(num%i==0):\n",
    "                break\n",
    "        else:\n",
    "            print(num)"
   ]
  },
  {
   "cell_type": "code",
   "execution_count": 8,
   "metadata": {},
   "outputs": [
    {
     "name": "stdout",
     "output_type": "stream",
     "text": [
      "Enter first number :1\n",
      "Enter second number :2\n",
      "3\n"
     ]
    }
   ],
   "source": [
    "def solveMeFirst(a,b):   \n",
    "    print(a+b)\n",
    "num1=int(input(\"Enter first number :\"))\n",
    "num2=int(input(\"Enter second number :\"))\n",
    "solveMeFirst(num1,num2)\n"
   ]
  },
  {
   "cell_type": "code",
   "execution_count": null,
   "metadata": {},
   "outputs": [],
   "source": []
  }
 ],
 "metadata": {
  "kernelspec": {
   "display_name": "Python 3",
   "language": "python",
   "name": "python3"
  },
  "language_info": {
   "codemirror_mode": {
    "name": "ipython",
    "version": 3
   },
   "file_extension": ".py",
   "mimetype": "text/x-python",
   "name": "python",
   "nbconvert_exporter": "python",
   "pygments_lexer": "ipython3",
   "version": "3.7.3"
  }
 },
 "nbformat": 4,
 "nbformat_minor": 2
}
