{
 "cells": [
  {
   "cell_type": "code",
   "execution_count": 5,
   "metadata": {},
   "outputs": [],
   "source": [
    "def factorial(n):\n",
    "    f=1\n",
    "    for i in range(2,n+1):\n",
    "        f=f*i\n",
    "    return f\n",
    "def series(A,X,n):\n",
    "    nFact=factorial(n)\n",
    "    for i in range(0,n+1):\n",
    "        niFact=factorial(n-i)\n",
    "        iFact=factorial(i)\n",
    "        aPow=pow(A,n-i)\n",
    "        xPow=pow(X,i)\n",
    "        print(int((nFact*aPow*xPow)/(niFact*iFact)),end=\" \")\n"
   ]
  },
  {
   "cell_type": "code",
   "execution_count": 6,
   "metadata": {},
   "outputs": [
    {
     "name": "stdout",
     "output_type": "stream",
     "text": [
      "Enter the Number1\n",
      "Enter the x values 5\n",
      "Enter the power5\n",
      "1 25 250 1250 3125 3125 "
     ]
    }
   ],
   "source": [
    "A=int(input(\"Enter the Number\"))\n",
    "X=int(input(\"Enter the x values \"))\n",
    "n=int(input(\"Enter the power\"))\n",
    "series(A,X,n)"
   ]
  },
  {
   "cell_type": "code",
   "execution_count": 9,
   "metadata": {},
   "outputs": [
    {
     "name": "stdout",
     "output_type": "stream",
     "text": [
      "Enter the Number1\n",
      "Enter the x values 5\n",
      "Enter the power5\n",
      "1 25 250 1250 3125 3125 "
     ]
    }
   ],
   "source": [
    "def series(A,X,n):\n",
    "    nFact=factorial(n)\n",
    "    f=1\n",
    "    for i in range(0,n+1):    \n",
    "        niFact=factorial(n-i)\n",
    "        iFact=factorial(i)\n",
    "        aPow=pow(A,n-i)\n",
    "        xPow=pow(X,i)\n",
    "        print(int((nFact*aPow*xPow)/(niFact*iFact)),end=\" \")\n",
    "        for i in range(2,n+1):\n",
    "            f=f*i\n",
    "    \n",
    "A=int(input(\"Enter the Number\"))\n",
    "X=int(input(\"Enter the x values \"))\n",
    "n=int(input(\"Enter the power\"))\n",
    "series(A,X,n)\n",
    "    \n"
   ]
  },
  {
   "cell_type": "code",
   "execution_count": null,
   "metadata": {},
   "outputs": [],
   "source": []
  }
 ],
 "metadata": {
  "kernelspec": {
   "display_name": "Python 3",
   "language": "python",
   "name": "python3"
  },
  "language_info": {
   "codemirror_mode": {
    "name": "ipython",
    "version": 3
   },
   "file_extension": ".py",
   "mimetype": "text/x-python",
   "name": "python",
   "nbconvert_exporter": "python",
   "pygments_lexer": "ipython3",
   "version": "3.7.3"
  }
 },
 "nbformat": 4,
 "nbformat_minor": 2
}
